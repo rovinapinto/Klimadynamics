{
 "cells": [
  {
   "cell_type": "markdown",
   "metadata": {},
   "source": [
    "## Klimadynamics 1\n",
    "\n",
    "#### Nils, Nastaran and Rovina"
   ]
  },
  {
   "cell_type": "markdown",
   "metadata": {},
   "source": [
    "1. Write a program, that evaluates a bivariate Gaussian PDF $ f(\\vec{x}; \\mu, \\Sigma) $ with given parameters $ \\vec{\\mu} $ and $ \\Sigma $ on a regular 2-dimensional grid\n",
    "   * Define the covariance matrix, $ \\Sigma $ by its variance $ \\sigma_{1} $ and $ \\sigma_ {2} $, and correlation, $ \\rho $  \n",
    "   * Apply this $ f(\\vec{x}) $ to a mesh-grid with range: \n",
    "       $ x_{1} = (-3\\sigma_{1},\\cdots,3\\sigma_{1}) $ and $ x_{2} = (-3\\sigma_{2},\\cdots,3\\sigma_{2}) $\n",
    "   * Plot a contour plot with axes $ x_{1}, x_{2} $\n",
    "   \n",
    "Note: $ \\Sigma = \\begin{pmatrix} \\sigma^{2}_{1} & \\sigma_{12} \\\\ \\sigma_{21} & \\sigma_{2}^2 \\end{pmatrix} $ and $ \\rho $ = $ \\frac{\\sigma_{12}}{\\sigma_{1}*\\sigma_{2}} $\n",
    "     where, $ \\rho \\in (-1,1) $  "
   ]
  },
  {
   "cell_type": "code",
   "execution_count": 18,
   "metadata": {},
   "outputs": [],
   "source": [
    "import numpy as np\n",
    "import matplotlib.pyplot as plt\n",
    "from numpy.random import multivariate_normal as mv_norm\n",
    "from numpy.linalg import det, inv, eig"
   ]
  },
  {
   "cell_type": "code",
   "execution_count": 19,
   "metadata": {},
   "outputs": [],
   "source": [
    "def get_multivariate_normal(x, mean, cov):\n",
    "    \"\"\"\n",
    "    mean : 1-D array_like, of length N\n",
    "\n",
    "    Mean of the N-dimensional distribution.\n",
    "\n",
    "    cov : 2-D array_like, of shape (N, N)\n",
    "\n",
    "    Covariance matrix of the distribution. Ref lecture notes eq 55\n",
    "    \"\"\"\n",
    "\n",
    "    q = mean.shape[0]\n",
    "\n",
    "    Z = np.sqrt((2*np.pi)**q*det(cov))\n",
    "\n",
    "    dist = 1/Z * np.exp(-0.5*(x-mean).T @ inv(cov)@(x-mean))\n",
    "\n",
    "    return dist\n",
    " "
   ]
  },
  {
   "cell_type": "code",
   "execution_count": 20,
   "metadata": {},
   "outputs": [],
   "source": [
    "sigma_1 = 5\n",
    "sigma_2 = 1\n",
    "rho = -0.8 \n",
    "\n",
    "mean = np.array([0, 0])\n",
    "\n",
    "cov = np.array([[sigma_1**2, rho*sigma_1*sigma_2], \n",
    "                [rho*sigma_1*sigma_2, sigma_2**2]])"
   ]
  },
  {
   "cell_type": "code",
   "execution_count": 21,
   "metadata": {},
   "outputs": [],
   "source": [
    "# get values from multivariate normal distribution\n",
    "x_norm = get_multivariate_normal(x=np.array([0, 1]), mean=mean, cov=cov)\n",
    "\n",
    "x1 = np.linspace(-3*sigma_1, 3*sigma_1, 100)\n",
    "x2 = np.linspace(-3*sigma_2, 3*sigma_2, 100)"
   ]
  },
  {
   "cell_type": "code",
   "execution_count": 22,
   "metadata": {},
   "outputs": [],
   "source": [
    "x1_mesh, x2_mesh = np.meshgrid(x1, x2)\n",
    "    \n",
    "prob = np.zeros(shape=x1_mesh.shape)\n",
    "for i in range(prob.shape[0]):\n",
    "    for j in range(prob.shape[1]):\n",
    "\n",
    "        prob[i, j] = get_multivariate_normal(x=np.array([x1_mesh[i, j], x2_mesh[i, j]]), mean=mean, cov=cov)"
   ]
  },
  {
   "cell_type": "code",
   "execution_count": null,
   "metadata": {},
   "outputs": [],
   "source": [
    "# prob = np.apply_along_axis(func, 0, np.array[mesh], mu,sigma) ---> vectorize it intead of the for loop"
   ]
  },
  {
   "cell_type": "code",
   "execution_count": 23,
   "metadata": {},
   "outputs": [
    {
     "data": {
      "image/png": "[encoded data removed]",
      "text/plain": [
       "<Figure size 432x288 with 2 Axes>"
      ]
     },
     "metadata": {
      "needs_background": "light"
     },
     "output_type": "display_data"
    }
   ],
   "source": [
    "plt.pcolormesh(x1, x2, prob)  \n",
    "plt.colorbar()\n",
    "plt.title(\"Theoretical PDF\")\n",
    "plt.show()"
   ]
  },
  {
   "cell_type": "markdown",
   "metadata": {},
   "source": [
    "2. Use the same values for $ \\vec{\\mu} $ and $ \\Sigma $ as above to compare the estimated PDF and the theoretical PDF. To generate a sample of a bivariate RV with $ \\vec{\\mu} $ and $ \\Sigma $ proceed as follows:\n",
    "    1. Calculate eigenvectors $ \\vec{e}_i $ and eigenvalues $ \\lambda_{i} $,(i= 1,2).\n",
    "    2. Generate using a function that draws from a univariate normal distribution, a sample of size $ \\textit{m} $ of $ a^{X}_{i} $,(i= 1,2). This forms a matrix $ \\mathbf{A} $ with realizations $ \\vec{a}^{X^{k}} $, $k= 1,\\cdots,m$ as columns, i.g. a $ 2 \\times m $ matrix.\n",
    "    3. The sample of $ \\vec{X} $ is the given as $ \\mathbf{X}$ = $ \\mathbf{E} \\mathbf{A}  + \\vec{\\mu}$\n",
    "    4. Use sample of size $ \\textit{m} $ to plot a 2-dimensional histogram and compare with PDF of 1.\n",
    "    \n",
    " * $ \\mathbf{A} $ = $ \\begin{pmatrix} a_1^{x(1)} & a_1^{x(m)} \\\\ a_2^{x(1)} & a_2^{x(m)} \\end{pmatrix} $\n",
    " * $ \\mathbf{E}$ = $ (\\vec{e}_1, \\cdots, \\vec{e}_q) $ \n",
    " * $ \\Lambda $ = $ (\\lambda_1, \\cdots, \\lambda_q) $"
   ]
  },
  {
   "cell_type": "code",
   "execution_count": 7,
   "metadata": {},
   "outputs": [],
   "source": [
    "def get_multivariate_normal_transformed(a_x, a_mu, lbd_mat):\n",
    "    \"\"\"\n",
    "    Gaussian multivariate PDF (transformed on orthonormal basis)\n",
    "    \n",
    "    a_x:        array with factors of elements of random variable (dim: q)\n",
    "    a_mu:       array with factors of mean of random variable (dim: q)\n",
    "    lbd_mat:    matrix with eigenvalues on diagonal (dim: q x q)\n",
    "    \"\"\"\n",
    "    \n",
    "    q = lbd_mat.shape[0]\n",
    "    \n",
    "    Z = np.sqrt((2*np.pi)**q*det(lbd_mat))\n",
    "    \n",
    "    prob = 1/Z * np.exp(-0.5*(a_x - a_mu).T @ inv(lbd_mat) @ (a_x - a_mu))\n",
    "    \n",
    "    #di = np.diag_indices(q)\n",
    "    #np.prod(1/np.sqrt(2*np.pi*lbd_mat[di])*np.exp(-0.5*(a_x - a_mu)**2/lbd_mat[di]))\n",
    "    \n",
    "    return prob\n"
   ]
  },
  {
   "cell_type": "code",
   "execution_count": 8,
   "metadata": {},
   "outputs": [],
   "source": [
    "L , E = eig(cov)\n",
    "lbd_mat = np.diag(np.array([L[0], L[1]])) #contructing a diagonal matrix with the eigen values"
   ]
  },
  {
   "cell_type": "code",
   "execution_count": 9,
   "metadata": {},
   "outputs": [],
   "source": [
    "a_mu = E.T @ mean "
   ]
  },
  {
   "cell_type": "code",
   "execution_count": 10,
   "metadata": {},
   "outputs": [],
   "source": [
    "m = 20000000 # the number of independent samples we wish to draw"
   ]
  },
  {
   "cell_type": "code",
   "execution_count": 11,
   "metadata": {},
   "outputs": [],
   "source": [
    "a_x1 = np.random.normal(loc=a_mu[0], scale=np.sqrt(L[0]), size=m)\n",
    "a_x2 = np.random.normal(loc=a_mu[1], scale=np.sqrt(L[1]), size=m)"
   ]
  },
  {
   "cell_type": "code",
   "execution_count": 12,
   "metadata": {},
   "outputs": [],
   "source": [
    "A = np.array([a_x1, a_x2])"
   ]
  },
  {
   "cell_type": "code",
   "execution_count": 13,
   "metadata": {},
   "outputs": [
    {
     "name": "stdout",
     "output_type": "stream",
     "text": [
      "(2, 20000000)\n"
     ]
    }
   ],
   "source": [
    "X =  E @ A\n",
    "x1 = X[0, :]\n",
    "x2 = X[1, :]\n",
    "print(X.shape)"
   ]
  },
  {
   "cell_type": "code",
   "execution_count": 14,
   "metadata": {},
   "outputs": [],
   "source": [
    "# calculate probability density using\n",
    "# a: the independent sample on the orthonormal basis\n",
    "# b: the dependent sample in the original data space\n",
    "if False:\n",
    "    prob_a = np.zeros(shape=m)\n",
    "    prob_b = np.zeros(shape=m)\n",
    "\n",
    "    for i in range(m):\n",
    "        prob_a[i] = get_multivariate_normal_transformed(a_x=np.array([a_x1[i], a_x2[i]]), a_mu=a_mu, lbd_mat=lbd_mat)\n",
    "        prob_test[i] = get_multivariate_normal(x=np.array([x1[i], x2[i]]), mean=mean, cov=cov)\n",
    "\n",
    "    assert (np.array(prob_a*1e15, dtype=np.int) == np.array(prob_b*1e15, dtype=np.int)).all  # should be the same (!)"
   ]
  },
  {
   "cell_type": "code",
   "execution_count": 17,
   "metadata": {},
   "outputs": [
    {
     "data": {
      "image/png": "[encoded data removed]",
      "text/plain": [
       "<Figure size 432x288 with 2 Axes>"
      ]
     },
     "metadata": {
      "needs_background": "light"
     },
     "output_type": "display_data"
    }
   ],
   "source": [
    "# plot in 2d     \n",
    "X_grid = np.array([np.linspace(-3*sigma_1, 3*sigma_1, 50),  # x1\n",
    "                   np.linspace(-3*sigma_2, 3*sigma_2, 50),  # x2\n",
    "                  ])\n",
    "fig = plt.figure()\n",
    "ax = fig.add_subplot(111)\n",
    "hs = ax.hist2d(X[0, :], X[1, :], bins=X_grid, cmap='viridis', density=True)\n",
    "ax.set_xlabel('x1')\n",
    "ax.set_ylabel('x2')\n",
    "ax.set_title('Estimated probability denisity')\n",
    "fig.colorbar(hs[3])\n",
    "plt.show()"
   ]
  }
 ],
 "metadata": {
  "kernelspec": {
   "display_name": "py3-general [conda env:py3-general]",
   "language": "python",
   "name": "conda-env-py3-general-py"
  },
  "language_info": {
   "codemirror_mode": {
    "name": "ipython",
    "version": 3
   },
   "file_extension": ".py",
   "mimetype": "text/x-python",
   "name": "python",
   "nbconvert_exporter": "python",
   "pygments_lexer": "ipython3",
   "version": "3.7.6"
  }
 },
 "nbformat": 4,
 "nbformat_minor": 4
}
